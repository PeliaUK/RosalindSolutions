{
  "nbformat": 4,
  "nbformat_minor": 0,
  "metadata": {
    "colab": {
      "provenance": []
    },
    "kernelspec": {
      "name": "python3",
      "display_name": "Python 3"
    },
    "language_info": {
      "name": "python"
    }
  },
  "cells": [
    {
      "cell_type": "markdown",
      "source": [
        "#Transitions and Transversions\n",
        "\n",
        "For DNA strings s1\n",
        " and s2\n",
        " having the same length, their transition/transversion ratio R(s1,s2)\n",
        " is the ratio of the total number of transitions to the total number of transversions, where symbol substitutions are inferred from mismatched corresponding symbols as when calculating Hamming distance (see “Counting Point Mutations”).\n",
        "\n",
        "Given: Two DNA strings s1\n",
        " and s2\n",
        " of equal length (at most 1 kbp).\n",
        "\n",
        "Return: The transition/transversion ratio R(s1,s2)\n",
        ".\n",
        "\n",
        "Sample Dataset\n",
        ">Rosalind_0209\n",
        "GCAACGCACAACGAAAACCCTTAGGGACTGGATTATTTCGTGATCGTTGTAGTTATTGGA\n",
        "AGTACGGGCATCAACCCAGTT\n",
        ">Rosalind_2200\n",
        "TTATCTGACAAAGAAAGCCGTCAACGGCTGGATAATTTCGCGATCGTGCTGGTTACTGGC\n",
        "GGTACGAGTGTTCCTTTGGGT\n",
        "Sample Output\n",
        "1.21428571429"
      ],
      "metadata": {
        "id": "HmmpFj2Ofe51"
      }
    },
    {
      "cell_type": "code",
      "source": [
        "s1= 'GCAACGCACAACGAAAACCCTTAGGGACTGGATTATTTCGTGATCGTTGTAGTTATTGGAAGTACGGGCATCAACCCAGTT'\n",
        "s2= 'TTATCTGACAAAGAAAGCCGTCAACGGCTGGATAATTTCGCGATCGTGCTGGTTACTGGCGGTACGAGTGTTCCTTTGGGT'\n",
        "\n",
        "\n",
        "def tran(s1,s2):\n",
        "    transversion = 0\n",
        "    transition = 0\n",
        "    for i in range(len(s1)):\n",
        "        if s1[i] != s2[i]:\n",
        "            if s1[i] in 'AG' and s2[i] in 'AG' or s1[i] in 'CT' and s2[i] in 'CT':\n",
        "                transition += 1\n",
        "            else:\n",
        "                transversion += 1\n",
        "    return transition/transversion\n",
        "\n",
        "print(tran(s1,s2))"
      ],
      "metadata": {
        "id": "yJUFJ3BIPSfN",
        "colab": {
          "base_uri": "https://localhost:8080/"
        },
        "outputId": "69d26496-0eb8-4b8c-b9f1-4b49ed1f285f"
      },
      "execution_count": 1,
      "outputs": [
        {
          "output_type": "stream",
          "name": "stdout",
          "text": [
            "1.2142857142857142\n"
          ]
        }
      ]
    }
  ]
}