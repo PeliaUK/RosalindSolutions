{
  "nbformat": 4,
  "nbformat_minor": 0,
  "metadata": {
    "colab": {
      "provenance": []
    },
    "kernelspec": {
      "name": "python3",
      "display_name": "Python 3"
    },
    "language_info": {
      "name": "python"
    }
  },
  "cells": [
    {
      "cell_type": "markdown",
      "source": [],
      "metadata": {
        "id": "QKUa-pkotKbJ"
      }
    },
    {
      "cell_type": "markdown",
      "source": [
        "#**DNA**"
      ],
      "metadata": {
        "id": "SWW2WVKz9knF"
      }
    },
    {
      "cell_type": "markdown",
      "source": [
        "#Counting DNA Nucleotides"
      ],
      "metadata": {
        "id": "1Mirg2kFafir"
      }
    },
    {
      "cell_type": "markdown",
      "source": [],
      "metadata": {
        "id": "-DWpBT2r3lLb"
      }
    },
    {
      "cell_type": "markdown",
      "source": [
        "###A Rapid Introduction to Molecular Biologyclick to expand\n",
        "Problem\n",
        "A string is simply an ordered collection of symbols selected from some alphabet and formed into a word; the length of a string is the number of symbols that it contains.\n",
        "\n",
        "An example of a length 21 DNA string (whose alphabet contains the symbols 'A', 'C', 'G', and 'T') is \"ATGCTTCAGAAAGGTCTTACG.\"\n",
        "\n",
        "Given: A DNA string s\n",
        " of length at most 1000 nt.\n",
        "\n",
        "Return: Four integers (separated by spaces) counting the respective number of times that the symbols 'A', 'C', 'G', and 'T' occur in s\n",
        ".\n",
        "\n",
        "Sample Dataset\n",
        "AGCTTTTCATTCTGACTGCAACGGGCAATATGTCTCTGTGTGGATTAAAAAAAGAGTGTCTGATAGCAGC\n",
        "Sample Output\n",
        "20 12 17 21"
      ],
      "metadata": {
        "id": "jwuVkBM-aNOb"
      }
    },
    {
      "cell_type": "code",
      "source": [
        "#Dataset\n",
        "dna_string = \"GTCATACGCAAACTAGGGGCAAGTATTACTGTTATGGTCTCATTACAGGCATATACCGACGGCACTCACTTGCGCATCGCGACCTATATCGGGAGTCTGAAAACTGGGTCGGGCGACAATAACTGTTACGTCACGCAACATCACTTAATCATAAATTCCCCTCTAGGTCATTTTGGGCTCTTCAATTATGCTAGGTATCAGCCTGTATGCCAGCATAACGAATGTACTGTGAGAGATCATGGCTGTTAGTGTCAGGATCCGTTCGTACACCGCGTGCTGTTCTAACCGCGCTATGGAAATTAATCTAATATAACTGCTTAGAGGGATTGAAGGAAGGCTACCCGACGTTCGAGTTAAACAAGAGGCTAAGTATGTGTAGCAAGTAGATCCTATTGCCCACGACCGGAATCCGATTTGGGAACATATTACTCGGAAGTCATTTTAACATGCGAGCCGGTATGAAATCTTGCATGGTACATGGGGTGCCGCCACATTATCCCAGCAGACCTAGTGCAGCAACTAGTTCTTAGATACGGTCTTCCTGTTTGGGCAGACTGACCAAGATCAAAGATTGTTAGGTTAGGCGACAACTTGGTTACAGAACCTGCCGATTAGATGTCTCTCGGACTTAAAATCCTATTTATTGGTGCTATGTGACAATGTTGCGCTGTAATATCGTCCTTGGAGAACGCCAGGAGTTCCATCCCCCCTTCGCTAGCTCCTGTTACTGATCACCGGTTTATGACGTAGCCGTAGGAGGCTCTCGGACCACTGCCGGGGAGTCCAATTATAAGGGCTCCCGTGTAAGAAGGTTCTAAAACGACCAGTCAATTG\"\n",
        "\n",
        "def count_nucleotides(dna_string):\n",
        "    # Initialize counts for each nucleotide\n",
        "    count_A = dna_string.count('A')\n",
        "    count_C = dna_string.count('C')\n",
        "    count_G = dna_string.count('G')\n",
        "    count_T = dna_string.count('T')\n",
        "    # Return the counts as a string with spaces\n",
        "    return f\"{count_A} {count_C} {count_G} {count_T}\"\n",
        "\n",
        "# Call function and print result (outside the function)\n",
        "result = count_nucleotides(dna_string)\n",
        "print(result)\n"
      ],
      "metadata": {
        "colab": {
          "base_uri": "https://localhost:8080/"
        },
        "id": "5c2a9lreMkfQ",
        "outputId": "ae9528e2-eecd-4c53-f39d-af8cd7f856a5"
      },
      "execution_count": null,
      "outputs": [
        {
          "output_type": "stream",
          "name": "stdout",
          "text": [
            "218 192 200 224\n"
          ]
        }
      ]
    }
  ]
}