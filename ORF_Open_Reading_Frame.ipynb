{
  "nbformat": 4,
  "nbformat_minor": 0,
  "metadata": {
    "colab": {
      "provenance": []
    },
    "kernelspec": {
      "name": "python3",
      "display_name": "Python 3"
    },
    "language_info": {
      "name": "python"
    }
  },
  "cells": [
    {
      "cell_type": "markdown",
      "source": [
        "#Transcription May Begin\n",
        "Problem\n",
        "Either strand of a DNA double helix can serve as the coding strand for RNA transcription. Hence, a given DNA string implies six total reading frames, or ways in which the same region of DNA can be translated into amino acids: three reading frames result from reading the string itself, whereas three more result from reading its reverse complement.\n",
        "\n",
        "An open reading frame (ORF) is one which starts from the start codon and ends by stop codon, without any other stop codons in between. Thus, a candidate protein string is derived by translating an open reading frame into amino acids until a stop codon is reached.\n",
        "\n",
        "Given: A DNA string s\n",
        " of length at most 1 kbp in FASTA format.\n",
        "\n",
        "Return: Every distinct candidate protein string that can be translated from ORFs of s\n",
        ". Strings can be returned in any order.\n",
        "\n",
        "Sample Dataset\n",
        ">Rosalind_99\n",
        "AGCCATGTAGCTAACTCAGGTTACATGGGGATGACCCCGCGACTTGGATTAGAGTCTCTTTTGGAATAAGCCTGAATGATCCGAGTAGCATCTCAG\n",
        "Sample Output\n",
        "MLLGSFRLIPKETLIQVAGSSPCNLS\n",
        "M\n",
        "MGMTPRLGLESLLE\n",
        "MTPRLGLESLLE"
      ],
      "metadata": {
        "id": "HmmpFj2Ofe51"
      }
    },
    {
      "cell_type": "code",
      "source": [
        "# Sample input in FASTA format\n",
        "fasta_input = \"\"\">Rosalind_99\n",
        "AGCCATGTAGCTAACTCAGGTTACATGGGGATGACCCCGCGACTTGGATTAGAGTCTCTTTTGGAATAAGCCTGAATGATCCGAGTAGCATCTCAG\"\"\"\n",
        "\n",
        "def read_fasta(fasta_input):\n",
        "    \"\"\"Read FASTA formatted input and return the DNA string.\"\"\"\n",
        "    lines = fasta_input.strip().split('\\n')\n",
        "    return ''.join(line.strip() for line in lines[1:])  # Join all lines after the header\n",
        "\n",
        "def translate_dna_to_protein(dna):\n",
        "    \"\"\"Translate a DNA sequence to a protein string.\"\"\"\n",
        "    # Codon to amino acid mapping\n",
        "    codon_table = {\n",
        "        'ATA': 'I', 'ATC': 'I', 'ATT': 'I', 'ATG': 'M',\n",
        "        'ACA': 'T', 'ACC': 'T', 'ACG': 'T', 'ACT': 'T',\n",
        "        'AAC': 'N', 'AAT': 'N', 'AAA': 'K', 'AAG': 'K',\n",
        "        'AGC': 'S', 'AGT': 'S', 'AGA': 'R', 'AGG': 'R',\n",
        "        'CTA': 'L', 'CTC': 'L', 'CTG': 'L', 'CTT': 'L',\n",
        "        'CCA': 'P', 'CCC': 'P', 'CCG': 'P', 'CCT': 'P',\n",
        "        'CAC': 'H', 'CAT': 'H', 'CAA': 'Q', 'CAG': 'Q',\n",
        "        'CGA': 'R', 'CGC': 'R', 'CGG': 'R', 'CGT': 'R',\n",
        "        'GTA': 'V', 'GTC': 'V', 'GTG': 'V', 'GTT': 'V',\n",
        "        'GCA': 'A', 'GCC': 'A', 'GCG': 'A', 'GCT': 'A',\n",
        "        'GAC': 'D', 'GAT': 'D', 'GAA': 'E', 'GAG': 'E',\n",
        "        'GGA': 'G', 'GGC': 'G', 'GGG': 'G', 'GGT': 'G',\n",
        "        'TCA': 'S', 'TCC': 'S', 'TCG': 'S', 'TCT': 'S',\n",
        "        'TTC': 'F', 'TTT': 'F', 'TTA': 'L', 'TTG': 'L',\n",
        "        'TAC': 'Y', 'TAT': 'Y', 'TAA': '',   'TAG': '',   # Stop codons\n",
        "        'TGC': 'C', 'TGT': 'C', 'TGA': '',   'TGG': 'W',\n",
        "    }\n",
        "\n",
        "    protein = []\n",
        "\n",
        "    # Iterate through the DNA sequence in steps of 3 (codons)\n",
        "    for i in range(0, len(dna), 3):\n",
        "        codon = dna[i:i + 3]\n",
        "        if codon in codon_table:\n",
        "            amino_acid = codon_table[codon]\n",
        "            if amino_acid:  # Skip stop codons\n",
        "                protein.append(amino_acid)\n",
        "            else:\n",
        "                break  # Stop translation at stop codon\n",
        "\n",
        "    return ''.join(protein)\n",
        "\n",
        "def find_orfs(dna):\n",
        "    \"\"\"Find all distinct candidate protein strings from ORFs in the DNA string.\"\"\"\n",
        "    proteins = set()\n",
        "    n = len(dna)\n",
        "\n",
        "    # Search for start codons (ATG)\n",
        "    for i in range(n):\n",
        "        if dna[i:i + 3] == 'ATG':  # Start codon\n",
        "            # Check for stop codons\n",
        "            for j in range(i, n - 2, 3):\n",
        "                codon = dna[j:j + 3]\n",
        "                if codon in ['TAA', 'TAG', 'TGA']:  # Stop codons\n",
        "                    orf = dna[i:j + 3]  # Extract the ORF\n",
        "                    protein = translate_dna_to_protein(orf)\n",
        "                    if protein:  # Only add non-empty proteins\n",
        "                        proteins.add(protein)\n",
        "                    break  # Stop searching after the first stop codon\n",
        "\n",
        "    # Also check for ORFs in the reverse complement\n",
        "    reverse_dna = dna[::-1].translate(str.maketrans('ATGC', 'TACG'))\n",
        "    for i in range(len(reverse_dna)):\n",
        "        if reverse_dna[i:i + 3] == 'ATG':  # Start codon in reverse\n",
        "            for j in range(i, len(reverse_dna) - 2, 3):\n",
        "                codon = reverse_dna[j:j + 3]\n",
        "                if codon in ['TAA', 'TAG', 'TGA']:  # Stop codons\n",
        "                    orf = reverse_dna[i:j + 3]  # Extract the ORF\n",
        "                    protein = translate_dna_to_protein(orf)\n",
        "                    if protein:  # Only add non-empty proteins\n",
        "                        proteins.add(protein)\n",
        "                    break  # Stop searching after the first stop codon\n",
        "\n",
        "    return proteins  # Return the set of distinct proteins\n",
        "\n",
        "# Read the DNA string from the FASTA input\n",
        "dna_string = read_fasta(fasta_input)\n",
        "\n",
        "# Find all distinct candidate protein strings\n",
        "proteins = find_orfs(dna_string)\n",
        "\n",
        "# Print the results\n",
        "for protein in proteins:\n",
        "    print(protein)"
      ],
      "metadata": {
        "colab": {
          "base_uri": "https://localhost:8080/"
        },
        "id": "93HX0p6ohmGL",
        "outputId": "3519b1be-5ad5-459e-ac55-3f3c037a12ff"
      },
      "execution_count": 13,
      "outputs": [
        {
          "output_type": "stream",
          "name": "stdout",
          "text": [
            "MTPRLGLESLLE\n",
            "MGMTPRLGLESLLE\n",
            "MLLGSFRLIPKETLIQVAGSSPCNLS\n",
            "M\n"
          ]
        }
      ]
    }
  ]
}