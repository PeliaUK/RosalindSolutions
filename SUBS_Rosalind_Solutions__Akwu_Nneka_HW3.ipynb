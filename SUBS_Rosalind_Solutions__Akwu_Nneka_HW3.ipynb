{
  "nbformat": 4,
  "nbformat_minor": 0,
  "metadata": {
    "colab": {
      "provenance": []
    },
    "kernelspec": {
      "name": "python3",
      "display_name": "Python 3"
    },
    "language_info": {
      "name": "python"
    }
  },
  "cells": [
    {
      "cell_type": "markdown",
      "source": [
        "SUBS-Finding a Motif in DNA\n",
        "Combing Through the Haystackclick to expand\n",
        "Problem\n",
        "Given two strings s\n",
        " and t\n",
        ", t\n",
        " is a substring of s\n",
        " if t\n",
        " is contained as a contiguous collection of symbols in s\n",
        " (as a result, t\n",
        " must be no longer than s\n",
        ").\n",
        "\n",
        "The position of a symbol in a string is the total number of symbols found to its left, including itself (e.g., the positions of all occurrences of 'U' in \"AUGCUUCAGAAAGGUCUUACG\" are 2, 5, 6, 15, 17, and 18). The symbol at position i\n",
        " of s\n",
        " is denoted by s[i]\n",
        ".\n",
        "\n",
        "A substring of s\n",
        " can be represented as s[j:k]\n",
        ", where j\n",
        " and k\n",
        " represent the starting and ending positions of the substring in s\n",
        "; for example, if s\n",
        " = \"AUGCUUCAGAAAGGUCUUACG\", then s[2:5]\n",
        " = \"UGCU\".\n",
        "\n",
        "The location of a substring s[j:k]\n",
        " is its beginning position j\n",
        "; note that t\n",
        " will have multiple locations in s\n",
        " if it occurs more than once as a substring of s\n",
        " (see the Sample below).\n",
        "\n",
        "Given: Two DNA strings s\n",
        " and t\n",
        " (each of length at most 1 kbp).\n",
        "\n",
        "Return: All locations of t\n",
        " as a substring of s\n",
        ".\n",
        "\n",
        "Sample Dataset\n",
        "GATATATGCATATACTT\n",
        "ATAT\n",
        "Sample Output\n",
        "2 4 10"
      ],
      "metadata": {
        "id": "L9xI3kFxYN5g"
      }
    },
    {
      "cell_type": "code",
      "source": [
        "# Dataset input\n",
        "s = \"GATATATGCATATACTT\"\n",
        "t = \"ATAT\"\n",
        "def find_substring_locations(s, t):\n",
        "    locations = []\n",
        "    t_length = len(t)\n",
        "\n",
        "    # Iterate through the string s\n",
        "    for i in range(len(s) - t_length + 1):\n",
        "        # Check if the substring matches\n",
        "        if s[i:i + t_length] == t:\n",
        "            # Store the 1-based index\n",
        "            locations.append(i + 1)\n",
        "\n",
        "    return locations\n",
        "\n",
        "# Find and print the locations\n",
        "locations = find_substring_locations(s, t)\n",
        "print(\" \".join(map(str, locations)))"
      ],
      "metadata": {
        "colab": {
          "base_uri": "https://localhost:8080/"
        },
        "id": "3_pFyfhQZMgt",
        "outputId": "05b34503-a3cf-445c-b4f3-57622f40d0aa"
      },
      "execution_count": 1,
      "outputs": [
        {
          "output_type": "stream",
          "name": "stdout",
          "text": [
            "2 4 10\n"
          ]
        }
      ]
    }
  ]
}