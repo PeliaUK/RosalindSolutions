{
  "nbformat": 4,
  "nbformat_minor": 0,
  "metadata": {
    "colab": {
      "provenance": []
    },
    "kernelspec": {
      "name": "python3",
      "display_name": "Python 3"
    },
    "language_info": {
      "name": "python"
    }
  },
  "cells": [
    {
      "cell_type": "code",
      "source": [
        "seq_1= 'GATTACA'\n",
        "seq_2= 'TAGACCA'\n",
        "seq_3= 'ATACA'\n",
        "\n",
        "common = \"\"\n",
        "\n",
        "for i in range(len(seq_1)):\n",
        "    for j in range(i + 1, len(seq_1) + 1):\n",
        "        substring = seq_1[i:j]\n",
        "        if all(substring in seq for seq in [seq_1, seq_2, seq_3]):     # Check if present in all sequences\n",
        "            if len(substring) > len(common):\n",
        "                common = substring\n",
        "\n",
        "print(common)"
      ],
      "metadata": {
        "id": "yJUFJ3BIPSfN",
        "outputId": "f0f9cf66-c8e2-4093-f6d8-14e5d21775d8",
        "colab": {
          "base_uri": "https://localhost:8080/"
        }
      },
      "execution_count": 1,
      "outputs": [
        {
          "output_type": "stream",
          "name": "stdout",
          "text": [
            "TA\n"
          ]
        }
      ]
    }
  ]
}