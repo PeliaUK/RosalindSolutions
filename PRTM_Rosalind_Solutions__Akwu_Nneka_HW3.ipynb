{
  "nbformat": 4,
  "nbformat_minor": 0,
  "metadata": {
    "colab": {
      "provenance": []
    },
    "kernelspec": {
      "name": "python3",
      "display_name": "Python 3"
    },
    "language_info": {
      "name": "python"
    }
  },
  "cells": [
    {
      "cell_type": "markdown",
      "source": [
        "##Calculating Protein Mass\n",
        "Chaining the Amino Acidsclick to expand\n",
        "Problem\n",
        "In a weighted alphabet, every symbol is assigned a positive real number called a weight. A string formed from a weighted alphabet is called a weighted string, and its weight is equal to the sum of the weights of its symbols.\n",
        "\n",
        "The standard weight assigned to each member of the 20-symbol amino acid alphabet is the monoisotopic mass of the corresponding amino acid.\n",
        "\n",
        "Given: A protein string P\n",
        " of length at most 1000 aa.\n",
        "\n",
        "Return: The total weight of P\n",
        ". Consult the monoisotopic mass table.\n",
        "\n",
        "Sample Dataset\n",
        "SKADYEK\n",
        "Sample Output\n",
        "821.392"
      ],
      "metadata": {
        "id": "L9xI3kFxYN5g"
      }
    },
    {
      "cell_type": "code",
      "source": [
        "# Sample input\n",
        "protein_string = \"SKADYEK\"\n",
        "def protein_weight(protein):\n",
        "    # Monoisotopic mass table for amino acids\n",
        "    mass_table = {\n",
        "        'A': 71.03711,  # Alanine\n",
        "        'C': 103.00919, # Cysteine\n",
        "        'D': 115.02694, # Aspartic acid\n",
        "        'E': 129.04259, # Glutamic acid\n",
        "        'F': 147.06841, # Phenylalanine\n",
        "        'G': 57.02146,  # Glycine\n",
        "        'H': 137.05891, # Histidine\n",
        "        'I': 113.08406, # Isoleucine\n",
        "        'K': 128.09496, # Lysine\n",
        "        'L': 113.08406, # Leucine\n",
        "        'M': 131.04049, # Methionine\n",
        "        'N': 114.04293, # Asparagine\n",
        "        'P': 97.05276,  # Proline\n",
        "        'Q': 128.05858, # Glutamine\n",
        "        'R': 156.10111, # Arginine\n",
        "        'S': 87.03203,  # Serine\n",
        "        'T': 101.04768, # Threonine\n",
        "        'V': 99.06841,  # Valine\n",
        "        'W': 186.07931, # Tryptophan\n",
        "        'Y': 163.06333  # Tyrosine\n",
        "    }\n",
        "\n",
        "    total_weight = 0.0\n",
        "\n",
        "    # Calculate the total weight of the protein string\n",
        "    for amino_acid in protein:\n",
        "        total_weight += mass_table.get(amino_acid, 0.0)\n",
        "\n",
        "    return total_weight\n",
        "\n",
        "\n",
        "\n",
        "# Calculate and print the total weight\n",
        "total_weight = protein_weight(protein_string)\n",
        "print(f\"{total_weight:.3f}\")"
      ],
      "metadata": {
        "colab": {
          "base_uri": "https://localhost:8080/"
        },
        "id": "3_pFyfhQZMgt",
        "outputId": "649169a7-8f5d-46a4-8d4a-c938fa036c7e"
      },
      "execution_count": 1,
      "outputs": [
        {
          "output_type": "stream",
          "name": "stdout",
          "text": [
            "821.392\n"
          ]
        }
      ]
    },
    {
      "cell_type": "code",
      "source": [],
      "metadata": {
        "id": "Nh22dXicbJs8"
      },
      "execution_count": null,
      "outputs": []
    }
  ]
}